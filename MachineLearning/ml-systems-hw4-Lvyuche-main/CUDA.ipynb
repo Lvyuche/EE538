{
  "cells": [
    {
      "cell_type": "markdown",
      "metadata": {
        "id": "n17S-aOBHWlO"
      },
      "source": [
        "# EE 599 HW 4: GPU CUDA Programming\n",
        "\n",
        "Your task in this Colab notebook is to fill out the sections that are specified by **TODO** (please search the keyword `TODO` to make sure you do not miss any).\n",
        "\n",
        "Prerequisites: set the runtime type to GPU. (Runtime -> Change Runtime Type)"
      ]
    },
    {
      "cell_type": "markdown",
      "metadata": {
        "id": "rrRh8DhCHWlP"
      },
      "source": [
        "The `nvidia-smi` cli tells you about the GPU information on Colab."
      ]
    },
    {
      "cell_type": "code",
      "execution_count": null,
      "metadata": {
        "colab": {
          "base_uri": "https://localhost:8080/"
        },
        "id": "OtTmgmYEHWlP",
        "outputId": "9c5a58e7-119a-4b19-ffca-fd15b831038a"
      },
      "outputs": [
        {
          "output_type": "stream",
          "name": "stdout",
          "text": [
            "Thu Mar 21 01:27:47 2024       \n",
            "+---------------------------------------------------------------------------------------+\n",
            "| NVIDIA-SMI 535.104.05             Driver Version: 535.104.05   CUDA Version: 12.2     |\n",
            "|-----------------------------------------+----------------------+----------------------+\n",
            "| GPU  Name                 Persistence-M | Bus-Id        Disp.A | Volatile Uncorr. ECC |\n",
            "| Fan  Temp   Perf          Pwr:Usage/Cap |         Memory-Usage | GPU-Util  Compute M. |\n",
            "|                                         |                      |               MIG M. |\n",
            "|=========================================+======================+======================|\n",
            "|   0  Tesla T4                       Off | 00000000:00:04.0 Off |                    0 |\n",
            "| N/A   62C    P8              10W /  70W |      0MiB / 15360MiB |      0%      Default |\n",
            "|                                         |                      |                  N/A |\n",
            "+-----------------------------------------+----------------------+----------------------+\n",
            "                                                                                         \n",
            "+---------------------------------------------------------------------------------------+\n",
            "| Processes:                                                                            |\n",
            "|  GPU   GI   CI        PID   Type   Process name                            GPU Memory |\n",
            "|        ID   ID                                                             Usage      |\n",
            "|=======================================================================================|\n",
            "|  No running processes found                                                           |\n",
            "+---------------------------------------------------------------------------------------+\n"
          ]
        }
      ],
      "source": [
        "!nvidia-smi"
      ]
    },
    {
      "cell_type": "markdown",
      "metadata": {
        "id": "vmS-6QZdHWlP"
      },
      "source": [
        "The GPU compiler for c++ from Nvidia is called `nvcc`, and is already installed on Colab."
      ]
    },
    {
      "cell_type": "code",
      "execution_count": null,
      "metadata": {
        "colab": {
          "base_uri": "https://localhost:8080/"
        },
        "id": "4hDJCtnGHWlP",
        "outputId": "5a932d60-7879-4720-c60f-b95acea0354e"
      },
      "outputs": [
        {
          "output_type": "stream",
          "name": "stdout",
          "text": [
            "nvcc: NVIDIA (R) Cuda compiler driver\n",
            "Copyright (c) 2005-2023 NVIDIA Corporation\n",
            "Built on Tue_Aug_15_22:02:13_PDT_2023\n",
            "Cuda compilation tools, release 12.2, V12.2.140\n",
            "Build cuda_12.2.r12.2/compiler.33191640_0\n"
          ]
        }
      ],
      "source": [
        "!nvcc --version"
      ]
    },
    {
      "cell_type": "markdown",
      "metadata": {
        "id": "uHVR6mJPHWlP"
      },
      "source": [
        "## Vector Add\n",
        "\n",
        "Similar to the previous assignment, we use `%%writefile` command to save the content of a notebook cell directly into a file, which can then be compiled and executed using command-line instructions.\n",
        "\n",
        "The example file `vector_add.cu` implements the vector addition using 64K threads with CUDA programming."
      ]
    },
    {
      "cell_type": "code",
      "execution_count": null,
      "metadata": {
        "colab": {
          "base_uri": "https://localhost:8080/"
        },
        "id": "Z5sAb_VfHWlP",
        "outputId": "30474cd7-2186-4f0e-8b73-746d7dabcfe8"
      },
      "outputs": [
        {
          "output_type": "stream",
          "name": "stdout",
          "text": [
            "Overwriting vector_add.cu\n"
          ]
        }
      ],
      "source": [
        "%%writefile vector_add.cu\n",
        "#include <stdlib.h>\n",
        "#include <stdio.h>\n",
        "#include <time.h>\n",
        "\n",
        "#define size 65536\n",
        "\n",
        "__global__ void vector_add(int *A, int *B, int *C) {\n",
        "    int my_id = blockIdx.x * blockDim.x + threadIdx.x;\n",
        "    C[my_id] = A[my_id] + B[my_id];\n",
        "}\n",
        "\n",
        "int main() {\n",
        "    int i;\n",
        "    int *A = (int *)malloc(sizeof(int) * size);\n",
        "    int *B = (int *)malloc(sizeof(int) * size);\n",
        "    int *C = (int *)malloc(sizeof(int) * size);\n",
        "\n",
        "    for (i = 0; i < size; i++) {\n",
        "        A[i] = 1;\n",
        "        B[i] = 2;\n",
        "    }\n",
        "\n",
        "    int *gpu_A, *gpu_B, *gpu_C;\n",
        "    cudaMalloc((void **)&gpu_A, sizeof(int) * size);\n",
        "    cudaMalloc((void **)&gpu_B, sizeof(int) * size);\n",
        "    cudaMalloc((void **)&gpu_C, sizeof(int) * size);\n",
        "\n",
        "    struct timespec start, stop;\n",
        "    double time;\n",
        "\n",
        "    cudaMemcpy(gpu_A, A, sizeof(int) * size, cudaMemcpyHostToDevice);\n",
        "    cudaMemcpy(gpu_B, B, sizeof(int) * size, cudaMemcpyHostToDevice);\n",
        "\n",
        "    dim3 dimGrid(64);\n",
        "    dim3 dimBlock(1024);\n",
        "\n",
        "    if (clock_gettime(CLOCK_REALTIME, &start) == -1) {\n",
        "        perror(\"clock gettime\");\n",
        "    }\n",
        "    vector_add<<<dimGrid, dimBlock>>>(gpu_A, gpu_B, gpu_C);\n",
        "    cudaMemcpy(C, gpu_C, sizeof(int) * size, cudaMemcpyDeviceToHost);\n",
        "\n",
        "    if (clock_gettime(CLOCK_REALTIME, &stop) == -1) {\n",
        "        perror(\"clock gettime\");\n",
        "    }\n",
        "    time = (stop.tv_sec - start.tv_sec) + (double)(stop.tv_nsec - start.tv_nsec) / 1e9;\n",
        "\n",
        "    printf(\"Execution time = %f sec\\n\", time);\n",
        "\n",
        "    for (i = 0; i < 10; i++) {\n",
        "        printf(\"C[%d]=%d \", i, C[i]);\n",
        "    }\n",
        "\n",
        "    free(A);\n",
        "    free(B);\n",
        "    free(C);\n",
        "    cudaFree(gpu_A);\n",
        "    cudaFree(gpu_B);\n",
        "    cudaFree(gpu_C);\n",
        "    return 0;\n",
        "}"
      ]
    },
    {
      "cell_type": "markdown",
      "metadata": {
        "id": "akjXQAX0HWlQ"
      },
      "source": [
        "Compile and execute the code."
      ]
    },
    {
      "cell_type": "code",
      "execution_count": null,
      "metadata": {
        "colab": {
          "base_uri": "https://localhost:8080/"
        },
        "id": "GIR1cxuGHWlQ",
        "outputId": "c305b11e-d433-4c65-cba7-0f85c9e4dc8c"
      },
      "outputs": [
        {
          "output_type": "stream",
          "name": "stdout",
          "text": [
            "Execution time = 0.118620 sec\n",
            "C[0]=3 C[1]=3 C[2]=3 C[3]=3 C[4]=3 C[5]=3 C[6]=3 C[7]=3 C[8]=3 C[9]=3 "
          ]
        }
      ],
      "source": [
        "!nvcc vector_add.cu -o vector_add.out && ./vector_add.out"
      ]
    },
    {
      "cell_type": "markdown",
      "metadata": {
        "id": "n3BrZgzHHWlQ"
      },
      "source": [
        "## Matrix Multiplacation\n",
        "\n",
        "### **TODO 1:**\n",
        "\n",
        "Implement unoptimized matrix multiplication using global memory only:\n",
        "\n",
        "- Thread block configuration: 16 × 16\n",
        "- Grid configuration: 64 × 64"
      ]
    },
    {
      "cell_type": "code",
      "execution_count": null,
      "metadata": {
        "colab": {
          "base_uri": "https://localhost:8080/"
        },
        "id": "bU347qasHWlQ",
        "outputId": "b67ba732-82b3-45eb-d8af-9f46ad97917d"
      },
      "outputs": [
        {
          "output_type": "stream",
          "name": "stdout",
          "text": [
            "Overwriting mat_mul.cu\n"
          ]
        }
      ],
      "source": [
        "%%writefile mat_mul.cu\n",
        "#include <stdlib.h>\n",
        "#include <stdio.h>\n",
        "#include <time.h>\n",
        "\n",
        "#define n 1024\n",
        "\n",
        "// TODO: Write GPU kernel to perform matrix multiplication\n",
        "__global__ void matrixMultiplication(int *A, int *B, int *C){\n",
        "    int row = blockIdx.y * blockDim.y + threadIdx.y;\n",
        "    int col = blockIdx.x * blockDim.x + threadIdx.x;\n",
        "    int sum = 0;\n",
        "\n",
        "    if(col < n && row < n){\n",
        "        for(int i = 0; i < n;i++){\n",
        "            sum += A[row * n + i] * B[i * n + col];\n",
        "        }\n",
        "        C[row * n + col] = sum;\n",
        "    }\n",
        "}\n",
        "\n",
        "int main() {\n",
        "    int i, j;\n",
        "    int *A = (int *) malloc(sizeof(int) * n * n);\n",
        "    int *B = (int *) malloc(sizeof(int) * n * n);\n",
        "    int *C = (int *) malloc(sizeof(int) * n * n);\n",
        "\n",
        "    for (i = 0; i < n; i++) {\n",
        "        for (j = 0; j < n; j++) {\n",
        "            A[i*n + j] = i;\n",
        "            B[i*n + j] = i + j;\n",
        "            C[i*n + j] = 0;\n",
        "        }\n",
        "    }\n",
        "\n",
        "    // TODO: Allocate device memory, use variable names: gpu_A, gpu_B and gpu_C\n",
        "    int *gpu_A, *gpu_B, *gpu_C;\n",
        "    cudaMalloc((void **)&gpu_A, sizeof(int) * n * n);\n",
        "    cudaMalloc((void **)&gpu_B, sizeof(int) * n * n);\n",
        "    cudaMalloc((void **)&gpu_C, sizeof(int) * n * n);\n",
        "\n",
        "    // TODO: Transfer data to device\n",
        "    cudaMemcpy(gpu_A, A, sizeof(int) * n * n, cudaMemcpyHostToDevice);\n",
        "    cudaMemcpy(gpu_B, B, sizeof(int) * n * n, cudaMemcpyHostToDevice);\n",
        "    cudaMemcpy(gpu_C, C, sizeof(int) * n * n, cudaMemcpyHostToDevice);\n",
        "\n",
        "    // TODO: Set grid and block sizes\n",
        "    dim3 dimGrid(64, 64);\n",
        "    dim3 dimBlock(16, 16);\n",
        "\n",
        "    struct timespec start, stop;\n",
        "    double time;\n",
        "\n",
        "    if( clock_gettime( CLOCK_REALTIME, &start) == -1 ) { perror( \"clock gettime\" );}\n",
        "\n",
        "    // TODO: Launch kernel\n",
        "    matrixMultiplication<<<dimGrid, dimBlock>>>(gpu_A, gpu_B, gpu_C);\n",
        "\n",
        "    // TODO: Transfer data back to host\n",
        "    cudaMemcpy(C, gpu_C, sizeof(int) * n * n, cudaMemcpyDeviceToHost);\n",
        "\n",
        "    if( clock_gettime( CLOCK_REALTIME, &stop) == -1 ) { perror( \"clock gettime\" );}\n",
        "    time = (stop.tv_sec - start.tv_sec)+ (double)(stop.tv_nsec - start.tv_nsec)/1e9;\n",
        "\n",
        "    // Print results\n",
        "    printf(\"Number of FLOPs = %llu, Execution time = %f sec,\\n%lf MFLOPs per sec\\n\",\n",
        "        2ULL * n * n * n, time, 1 / time / 1e6 * 2 * n * n * n);\n",
        "\n",
        "    printf(\"C[100][100]=%d\\n\", C[100*n + 100]);\n",
        "\n",
        "    free(A);\n",
        "    free(B);\n",
        "    free(C);\n",
        "    cudaFree(gpu_A);\n",
        "    cudaFree(gpu_B);\n",
        "    cudaFree(gpu_C);\n",
        "    return 0;\n",
        "}"
      ]
    },
    {
      "cell_type": "code",
      "execution_count": null,
      "metadata": {
        "colab": {
          "base_uri": "https://localhost:8080/"
        },
        "id": "m6Cb0sY7HWlQ",
        "outputId": "4d50cd64-7daa-416f-c80b-2312f1939874"
      },
      "outputs": [
        {
          "output_type": "stream",
          "name": "stdout",
          "text": [
            "Number of FLOPs = 2147483648, Execution time = 0.126278 sec,\n",
            "17006.035126 MFLOPs per sec\n",
            "C[100][100]=62617600\n"
          ]
        }
      ],
      "source": [
        "!nvcc mat_mul.cu -o mat_mul.out && ./mat_mul.out"
      ]
    },
    {
      "cell_type": "markdown",
      "metadata": {
        "id": "oVe2Yl80HWlQ"
      },
      "source": [
        "### **TODO 2**:\n",
        "\n",
        "Implement block matrix multiplication using shared memory.\n",
        "- Thread block configuration: 32 × 32\n",
        "- Grid configuration: 32 × 32"
      ]
    },
    {
      "cell_type": "code",
      "execution_count": 7,
      "metadata": {
        "id": "mIaqKVjBHWlQ",
        "outputId": "78217b44-8e26-417c-cbcf-2677f43c3523",
        "colab": {
          "base_uri": "https://localhost:8080/"
        }
      },
      "outputs": [
        {
          "output_type": "stream",
          "name": "stdout",
          "text": [
            "Writing blocked_mat_mul.cu\n"
          ]
        }
      ],
      "source": [
        "%%writefile blocked_mat_mul.cu\n",
        "#include <stdlib.h>\n",
        "#include <stdio.h>\n",
        "#include <time.h>\n",
        "\n",
        "#define n 1024\n",
        "#define block_size 32\n",
        "\n",
        "// TODO: Write GPU kernel to perform matrix multiplication\n",
        "__global__ void matrixMulShared(int *A, int *B, int *C, int width) {\n",
        "    __shared__ int As[block_size][block_size];\n",
        "    __shared__ int Bs[block_size][block_size];\n",
        "\n",
        "    int bx = blockIdx.x, by = blockIdx.y,\n",
        "        tx = threadIdx.x, ty = threadIdx.y,\n",
        "        Row = by * block_size + ty,\n",
        "        Col = bx * block_size + tx;\n",
        "    int sum = 0;\n",
        "\n",
        "    for (int m = 0; m < width/block_size; ++m) {\n",
        "        As[ty][tx] = A[Row*width + (m*block_size + tx)];\n",
        "        Bs[ty][tx] = B[(m*block_size + ty)*width + Col];\n",
        "        __syncthreads();\n",
        "\n",
        "        for (int k = 0; k < block_size; ++k) {\n",
        "            sum += As[ty][k] * Bs[k][tx];\n",
        "        }\n",
        "        __syncthreads();\n",
        "    }\n",
        "    C[Row*width + Col] = sum;\n",
        "}\n",
        "\n",
        "int main() {\n",
        "    int i, j;\n",
        "    int *A = (int *) malloc(sizeof(int)*n*n);\n",
        "    int *B = (int *) malloc(sizeof(int)*n*n);\n",
        "    int *C = (int *) malloc(sizeof(int)*n*n);\n",
        "\n",
        "    for (i = 0; i < n; i++) {\n",
        "        for (j = 0; j < n; j++) {\n",
        "            A[i*n + j] = i;\n",
        "            B[i*n + j] = i + j;\n",
        "            C[i*n + j] = 0;\n",
        "        }\n",
        "    }\n",
        "\n",
        "    // TODO: Allocate device memory, use variable names: gpu_A, gpu_B and gpu_C\n",
        "    int *gpu_A, *gpu_B, *gpu_C;\n",
        "    cudaMalloc((void **)&gpu_A, sizeof(int)*n*n);\n",
        "    cudaMalloc((void **)&gpu_B, sizeof(int)*n*n);\n",
        "    cudaMalloc((void **)&gpu_C, sizeof(int)*n*n);\n",
        "\n",
        "    // TODO: Transfer data to device\n",
        "    cudaMemcpy(gpu_A, A, sizeof(int)*n*n, cudaMemcpyHostToDevice);\n",
        "    cudaMemcpy(gpu_B, B, sizeof(int)*n*n, cudaMemcpyHostToDevice);\n",
        "\n",
        "    // TODO: Set grid and block sizes\n",
        "    dim3 dimBlock(block_size, block_size);\n",
        "    dim3 dimGrid(n / block_size, n / block_size);\n",
        "\n",
        "    struct timespec start, stop;\n",
        "    double time;\n",
        "\n",
        "    if( clock_gettime( CLOCK_REALTIME, &start) == -1 ) { perror( \"clock gettime\" );}\n",
        "\n",
        "    // TODO: Launch kernel\n",
        "    matrixMulShared<<<dimGrid, dimBlock>>>(gpu_A, gpu_B, gpu_C, n);\n",
        "\n",
        "    // TODO: Transfer data back to host\n",
        "    cudaMemcpy(C, gpu_C, sizeof(int)*n*n, cudaMemcpyDeviceToHost);\n",
        "\n",
        "    if( clock_gettime( CLOCK_REALTIME, &stop) == -1 ) { perror( \"clock gettime\" );}\n",
        "    time = (stop.tv_sec - start.tv_sec)+ (double)(stop.tv_nsec - start.tv_nsec)/1e9;\n",
        "\n",
        "    // Print results\n",
        "    printf(\"Number of FLOPs = %llu, Execution time = %f sec,\\n%lf MFLOPs per sec\\n\",\n",
        "        2ULL * n * n * n, time, 1 / time / 1e6 * 2 * n * n * n);\n",
        "\n",
        "    printf(\"C[100][100]=%d\\n\", C[100*n + 100]);\n",
        "\n",
        "    free(A);\n",
        "    free(B);\n",
        "    free(C);\n",
        "    cudaFree(gpu_A);\n",
        "    cudaFree(gpu_B);\n",
        "    cudaFree(gpu_C);\n",
        "    return 0;\n",
        "}"
      ]
    },
    {
      "cell_type": "code",
      "execution_count": 8,
      "metadata": {
        "id": "Hv3XE6xtHWlQ",
        "outputId": "d05eae25-b10f-493b-c81a-6b34df37f44d",
        "colab": {
          "base_uri": "https://localhost:8080/"
        }
      },
      "outputs": [
        {
          "output_type": "stream",
          "name": "stdout",
          "text": [
            "Number of FLOPs = 2147483648, Execution time = 0.052455 sec,\n",
            "40939.721763 MFLOPs per sec\n",
            "C[100][100]=62617600\n"
          ]
        }
      ],
      "source": [
        "!nvcc blocked_mat_mul.cu -o blocked_mat_mul.out && ./blocked_mat_mul.out"
      ]
    },
    {
      "cell_type": "markdown",
      "metadata": {
        "id": "MdDJVIiCHWlQ"
      },
      "source": []
    }
  ],
  "metadata": {
    "accelerator": "GPU",
    "colab": {
      "gpuType": "T4",
      "provenance": []
    },
    "kernelspec": {
      "display_name": "Python 3",
      "name": "python3"
    },
    "language_info": {
      "codemirror_mode": {
        "name": "ipython",
        "version": 3
      },
      "file_extension": ".py",
      "mimetype": "text/x-python",
      "name": "python",
      "nbconvert_exporter": "python",
      "pygments_lexer": "ipython3",
      "version": "3.9.18"
    }
  },
  "nbformat": 4,
  "nbformat_minor": 0
}