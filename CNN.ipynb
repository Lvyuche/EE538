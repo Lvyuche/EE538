{
  "cells": [
    {
      "cell_type": "markdown",
      "metadata": {
        "id": "nc3kdYUUlfGP"
      },
      "source": [
        "# EE 599 HW 2: Convolution Neural Network\n",
        "\n",
        "Your task in this Colab notebook is to fill out the sections that are specified by **TODO** (please search the keyword `TODO` to make sure you do not miss any).\n",
        "\n",
        "Prerequisites: set the runtime type to GPU. (Runtime -> Change Runtime Type)"
      ]
    },
    {
      "cell_type": "code",
      "execution_count": 1,
      "metadata": {
        "id": "hbiiMcdNJI--"
      },
      "outputs": [],
      "source": [
        "#%matplotlib inline\n",
        "import numpy as np\n",
        "import matplotlib.pyplot as plt\n",
        "\n",
        "import torch\n",
        "import torchvision\n",
        "import torchvision.transforms as transforms\n",
        "import torch.nn as nn\n",
        "import torch.nn.functional as F\n",
        "import torch.optim as optim\n",
        "from torch.utils.data import DataLoader"
      ]
    },
    {
      "cell_type": "markdown",
      "metadata": {
        "id": "FG3WW1Owq1Fh"
      },
      "source": [
        "Verify that GPU is availble to use."
      ]
    },
    {
      "cell_type": "code",
      "execution_count": 2,
      "metadata": {
        "id": "A3RF5VmcoUMG",
        "outputId": "0a93cf60-d1d3-4487-c334-5c239bdb8ee4",
        "colab": {
          "base_uri": "https://localhost:8080/"
        }
      },
      "outputs": [
        {
          "output_type": "stream",
          "name": "stdout",
          "text": [
            "Device cuda\n"
          ]
        }
      ],
      "source": [
        "if torch.cuda.is_available():\n",
        "    device = torch.device('cuda')\n",
        "else:\n",
        "    device = torch.device('cpu')\n",
        "print(\"Device\", device)"
      ]
    },
    {
      "cell_type": "markdown",
      "metadata": {
        "id": "FjKQYob-hDrw"
      },
      "source": [
        "## Convolution Operation\n",
        "\n",
        "Definition:\n",
        "Convolution is a mathematical operation where a filter (or kernel) is applied over an input (e.g., image) to produce a modified output known as a feature map.\n",
        "\n",
        "Key Components:\n",
        "- Kernel/Filter: A small matrix that slides over the input. It captures patterns or features from the input.\n",
        "  \n",
        "- Stride: The number of pixels the filter moves at each step.\n",
        "  \n",
        "- Padding: Zeros added around the input's border, often used to control the output's spatial dimensions.\n",
        "\n",
        "Operation:\n",
        "The filter starts at the top-left corner of the image. For each position, values under the filter are multiplied with its corresponding filter values, then summed to produce a single pixel in the output. This process is repeated across the entire input."
      ]
    },
    {
      "cell_type": "markdown",
      "metadata": {
        "id": "gOR3xVytYchU"
      },
      "source": [
        "## Create a sample image\n",
        "\n",
        "Create a 3D  `image` of shape `(1,10,10)` as a numpy-array. The signal values are 1 (white) in the `(4,4)`-center region and 0 (black) elsewhere.\n",
        "\n",
        "Plot the image as a grid with black or white colors and write the 0 or 1 value on each cell."
      ]
    },
    {
      "cell_type": "code",
      "execution_count": 3,
      "metadata": {
        "colab": {
          "base_uri": "https://localhost:8080/"
        },
        "id": "lv5aiZYjhVMj",
        "outputId": "92c2daa5-2765-43d8-ba83-17736b3bb8dc"
      },
      "outputs": [
        {
          "output_type": "stream",
          "name": "stdout",
          "text": [
            "[[[0. 0. 0. 0. 0. 0. 0. 0. 0. 0.]\n",
            "  [0. 0. 0. 0. 0. 0. 0. 0. 0. 0.]\n",
            "  [0. 0. 0. 0. 0. 0. 0. 0. 0. 0.]\n",
            "  [0. 0. 0. 1. 1. 1. 1. 0. 0. 0.]\n",
            "  [0. 0. 0. 1. 1. 1. 1. 0. 0. 0.]\n",
            "  [0. 0. 0. 1. 1. 1. 1. 0. 0. 0.]\n",
            "  [0. 0. 0. 1. 1. 1. 1. 0. 0. 0.]\n",
            "  [0. 0. 0. 0. 0. 0. 0. 0. 0. 0.]\n",
            "  [0. 0. 0. 0. 0. 0. 0. 0. 0. 0.]\n",
            "  [0. 0. 0. 0. 0. 0. 0. 0. 0. 0.]]]\n",
            "(1, 10, 10)\n"
          ]
        }
      ],
      "source": [
        "# Create a 1x10x10 image filled with zeros\n",
        "image = np.zeros((1, 10, 10), dtype=np.float32)\n",
        "\n",
        "# Set a 4x4 sub-matrix (starting from index 3 to 7 both for rows and columns) to be filled with ones\n",
        "image[0, 3:7, 3:7] = 1\n",
        "\n",
        "# Print the formatted matrix\n",
        "print(image)\n",
        "print(image.shape)"
      ]
    },
    {
      "cell_type": "code",
      "execution_count": 5,
      "metadata": {
        "colab": {
          "base_uri": "https://localhost:8080/",
          "height": 444
        },
        "id": "HWt-4xoXhqb9",
        "outputId": "f6df94ea-da61-4e19-843b-9c124d3928be"
      },
      "outputs": [
        {
          "output_type": "display_data",
          "data": {
            "text/plain": [
              "<Figure size 500x500 with 1 Axes>"
            ],
            "image/png": "[encoded data removed]"
          },
          "metadata": {}
        }
      ],
      "source": [
        "def plot_image_with_values(image, title):\n",
        "    \"\"\"\n",
        "    Plots a 3D image with numeric values overlaid on each cell.\n",
        "\n",
        "    Parameters:\n",
        "    - image (3D numpy array): The image to be plotted.\n",
        "    - title (str): The title of the plot.\n",
        "    \"\"\"\n",
        "    plt.figure(figsize=(5,5))\n",
        "\n",
        "    # Plot the image\n",
        "    plt.imshow(image[0], cmap='gray')\n",
        "\n",
        "    # Looping through all cells to overlay the numeric values\n",
        "    for i in range(image.shape[1]):\n",
        "        for j in range(image.shape[2]):\n",
        "            pixel_value = image[0, i, j]\n",
        "            text_color = 'white' if pixel_value < 0.5 else 'black'  # Setting text color based on pixel value\n",
        "            plt.text(j, i, f'{pixel_value:.2f}', ha='center', va='center', color=text_color)\n",
        "\n",
        "    plt.title(title)\n",
        "    plt.axis('off')\n",
        "    plt.show()\n",
        "\n",
        "\n",
        "plot_image_with_values(image, 'A sample image')"
      ]
    },
    {
      "cell_type": "markdown",
      "metadata": {
        "id": "xqQLUTPfi0JZ"
      },
      "source": [
        "## Average Filter\n",
        "\n",
        "### **TODO 1**:\n",
        "Implement a function that applies a 3x3 average filter to an input image using PyTorch's [conv2d](https://pytorch.org/docs/stable/generated/torch.nn.functional.conv2d.html) function. The filter should have all values set to 1/9, ensuring the sum is 1, and use a padding of 1 to keep the output image dimensions the same as the input.\n",
        "\n",
        "Note that the input and output of the `average_filter` function are numpy array type, so you need to convert numpy array to pytorch tensor, process the tensor, and convert pytorch tensor back to numpy array."
      ]
    },
    {
      "cell_type": "code",
      "execution_count": null,
      "metadata": {
        "id": "cVgk7qEuizVj"
      },
      "outputs": [],
      "source": [
        "def average_filter(image):\n",
        "    \"\"\"\n",
        "    Apply a 3x3 average filter to the input image using PyTorch and return the filtered image.\n",
        "\n",
        "    Args:\n",
        "    - image: A 3D numpy array representing the input image.\n",
        "\n",
        "    Returns:\n",
        "    - filtered_img: A 3D numpy array representing the image after applying the filter.\n",
        "    \"\"\"\n",
        "\n",
        "    tensor = torch.from_numpy(image);\n",
        "\n",
        "    return filtered_img"
      ]
    },
    {
      "cell_type": "markdown",
      "metadata": {
        "id": "JB0IBoQ6P2jP"
      },
      "source": [
        "Plot the image as a grid with black or white colors and write the 0 or 1 value on each cell."
      ]
    },
    {
      "cell_type": "code",
      "execution_count": null,
      "metadata": {
        "id": "-L6R21Z4P2jP"
      },
      "outputs": [],
      "source": [
        "filtered_img = average_filter(image)\n",
        "plot_image_with_values(filtered_img, 'Average Filtered Image')"
      ]
    },
    {
      "cell_type": "markdown",
      "metadata": {
        "id": "a14_iJ0ZnZJi"
      },
      "source": [
        "## Edge Detection\n",
        "\n",
        "In image processing, edge detection refers to the process of identifying abrupt changes or discontinuities in an image. These abrupt changes often correspond to object boundaries, textures, or other significant features.\n",
        "\n",
        "The concept of **central differences** can be applied to images to detect edges by estimating the gradient magnitude at each pixel. In the context of images, the derivative approximations can highlight the areas of rapid intensity change, which are often the edges.\n",
        "\n",
        "Using the concept of central differences, one possible filter for vertical edge detection is:\n",
        "\\begin{bmatrix}\n",
        "-1 & 0 & 1 \\\\\n",
        "-1 & 0 & 1 \\\\\n",
        "-1 & 0 & 1 \\\\\n",
        "\\end{bmatrix}\n",
        "\n",
        "### **TODO 2**:\n",
        "Implement a function that applies a 3x3 vertical edge detection filter to an input image using PyTorch's [conv2d](https://pytorch.org/docs/stable/generated/torch.nn.functional.conv2d.html) function."
      ]
    },
    {
      "cell_type": "code",
      "execution_count": null,
      "metadata": {
        "id": "DGrPkCHOP2jP"
      },
      "outputs": [],
      "source": [
        "def vertical_edge_detection(image):\n",
        "    \"\"\"\n",
        "    Apply a 3x3 vertical edge detection filter to the input image using PyTorch and return the filtered image.\n",
        "\n",
        "    Args:\n",
        "    - image: A 3D numpy array representing the input image.\n",
        "\n",
        "    Returns:\n",
        "    - filtered_img: A 3D numpy array representing the image after applying the filter.\n",
        "    \"\"\"\n",
        "\n",
        "\n",
        "    return filtered_img"
      ]
    },
    {
      "cell_type": "code",
      "execution_count": null,
      "metadata": {
        "id": "oXtXywfxP2jQ"
      },
      "outputs": [],
      "source": [
        "filtered_img = vertical_edge_detection(image)\n",
        "plot_image_with_values(filtered_img, 'Vertical Edge Detection Filter')"
      ]
    },
    {
      "cell_type": "markdown",
      "metadata": {
        "id": "MbxxvlRdp20x"
      },
      "source": [
        "## Horizontal Edge\n",
        "\n",
        "### **TODO 3:**\n",
        "Implement a function that applies a 3x3 horizontal edge detection filter to an input image using PyTorch's [conv2d](https://pytorch.org/docs/stable/generated/torch.nn.functional.conv2d.html) function. What should the filter be in this case?"
      ]
    },
    {
      "cell_type": "code",
      "execution_count": null,
      "metadata": {
        "id": "ZAydg700qLsw"
      },
      "outputs": [],
      "source": [
        "def horizontal_edge_detection(image):\n",
        "    \"\"\"\n",
        "    Apply a 3x3 horizontal edge detection filter to the input image using PyTorch and return the filtered image.\n",
        "\n",
        "    Args:\n",
        "    - image: A 3D numpy array representing the input image.\n",
        "\n",
        "    Returns:\n",
        "    - filtered_img: A 3D numpy array representing the image after applying the filter.\n",
        "    \"\"\"\n",
        "\n",
        "\n",
        "    return filtered_img"
      ]
    },
    {
      "cell_type": "code",
      "execution_count": null,
      "metadata": {
        "id": "Its3_KIkP2jQ"
      },
      "outputs": [],
      "source": [
        "filtered_img = horizontal_edge_detection(image)\n",
        "plot_image_with_values(filtered_img, 'Horizontal Edge Detection Filter')"
      ]
    },
    {
      "cell_type": "markdown",
      "metadata": {
        "id": "Kle9PjhE8wXY"
      },
      "source": [
        "## Laplacian Sharpening\n",
        "Lapalacian filters can increase the regions of the image with rapid intensity. It is very helpful in hiding the fine details of images. Any features with a sharp discontunioty will be enhanced.\n",
        "\n",
        "One of the Laplacian filter is\n",
        "\n",
        "\\begin{bmatrix}\n",
        " 0 & -1 &  0 \\\\\n",
        "-1 &  5 & -1 \\\\\n",
        " 0 & -1 &  0 \\\\\n",
        "\\end{bmatrix}\n",
        "\n",
        "\n",
        "### **TODO 4**:\n",
        "Implement a function that applies a 3x3 laplacian sharpening filter to an input image using PyTorch's [conv2d](https://pytorch.org/docs/stable/generated/torch.nn.functional.conv2d.html) function."
      ]
    },
    {
      "cell_type": "code",
      "execution_count": null,
      "metadata": {
        "id": "g2w_onqCP2jQ"
      },
      "outputs": [],
      "source": [
        "def laplacian_filter(image):\n",
        "    \"\"\"\n",
        "    Apply a 3x3 laplacian filter to the input image using PyTorch and return the filtered image.\n",
        "\n",
        "    Args:\n",
        "    - image: A 3D numpy array representing the input image.\n",
        "\n",
        "    Returns:\n",
        "    - filtered_img: A 3D numpy array representing the image after applying the filter.\n",
        "    \"\"\"\n",
        "\n",
        "\n",
        "    return filtered_img"
      ]
    },
    {
      "cell_type": "code",
      "execution_count": null,
      "metadata": {
        "id": "vMwLyA3oP2jQ"
      },
      "outputs": [],
      "source": [
        "filtered_img = laplacian_filter(image)\n",
        "plot_image_with_values(filtered_img, 'Laplacian Filter')"
      ]
    },
    {
      "cell_type": "markdown",
      "metadata": {
        "id": "vcXeVjszchQz"
      },
      "source": [
        "## Applying Filters on a Real Image\n",
        "\n",
        "In this section we apply several filters on a real image.\n",
        "\n",
        "Use `PIL` library to read a image from online resource called `sheep.jpg` as a numpy array. Convert that image to grayscale so that it only has a single channel and plot the image."
      ]
    },
    {
      "cell_type": "code",
      "execution_count": null,
      "metadata": {
        "id": "1dPoNC39r8zS"
      },
      "outputs": [],
      "source": [
        "from PIL import Image\n",
        "import urllib.request\n",
        "\n",
        "image = Image.open(urllib.request.urlopen('https://chokkan.github.io/deeplearning/assets/images/sheep.jpg'))\n",
        "image = image.resize((256, 256))  # resize image.\n",
        "plt.imshow(image)\n",
        "\n",
        "image = image.convert('L')  # convert to grey scale\n",
        "image = np.array(image, dtype=np.float32) / 255  # normalize image to range [0, 1]\n",
        "image = np.expand_dims(image, axis=0)  # expand to 3 dimensional"
      ]
    },
    {
      "cell_type": "markdown",
      "metadata": {
        "id": "r2BgcX5oP2jQ"
      },
      "source": [
        "Create a function that can plot both the original image and its modified version side by side."
      ]
    },
    {
      "cell_type": "code",
      "execution_count": null,
      "metadata": {
        "id": "RIR5fjl7P2jQ"
      },
      "outputs": [],
      "source": [
        "def plot_original_and_modified(original_img, modified_img):\n",
        "    \"\"\"\n",
        "    Plot the original image and its modified version side by side.\n",
        "\n",
        "    Args:\n",
        "    - original_img: A 3D numpy array representing the original image.\n",
        "\n",
        "    - modified_img: A 3D numpy array representing the the modified version of the original image.\n",
        "    \"\"\"\n",
        "\n",
        "    # Ensure that the input arrays are in the range [0, 1]\n",
        "    original_img = np.clip(original_img, 0, 1)[0]\n",
        "    modified_img = np.clip(modified_img, 0, 1)[0]\n",
        "\n",
        "    plt.figure(num=None, figsize=(12,12), dpi=80, facecolor='w', edgecolor='k')\n",
        "\n",
        "    # Plot the original image\n",
        "    plt.subplot(1,2,1)\n",
        "    plt.imshow(original_img, cmap='Greys_r')\n",
        "    plt.title(\"Original Image\")\n",
        "\n",
        "    # Plot the modified image\n",
        "    plt.subplot(1,2,2)\n",
        "    plt.imshow(modified_img, cmap='Greys_r')\n",
        "    plt.title(\"Modified Image\")\n",
        "\n",
        "    plt.show()"
      ]
    },
    {
      "cell_type": "markdown",
      "metadata": {
        "id": "pcRb4WApdJHt"
      },
      "source": [
        "### **TODO 5**:\n",
        "Implement a function that applies a 3x3 vertical edge detection filter to an input image using PyTorch's [conv2d](https://pytorch.org/docs/stable/generated/torch.nn.functional.conv2d.html) function."
      ]
    },
    {
      "cell_type": "code",
      "execution_count": null,
      "metadata": {
        "id": "iPY1cdIBP2jR"
      },
      "outputs": [],
      "source": [
        "def vertical_edge_detection(image):\n",
        "    \"\"\"\n",
        "    Apply a 3x3 vertical edge detection filter to the input image using PyTorch and return the filtered image.\n",
        "\n",
        "    Args:\n",
        "    - image: A 3D numpy array representing the input image.\n",
        "\n",
        "    Returns:\n",
        "    - filtered_img: A 3D numpy array representing the image after applying the filter.\n",
        "    \"\"\"\n",
        "\n",
        "\n",
        "    return filtered_img\n",
        "\n",
        "filtered_img = vertical_edge_detection(image)\n",
        "plot_original_and_modified(image, filtered_img)"
      ]
    },
    {
      "cell_type": "markdown",
      "metadata": {
        "id": "LbCgGFpudPyA"
      },
      "source": [
        "### **TODO 6:**\n",
        "Implement a function that applies a 3x3 horizontal edge detection filter to an input image using PyTorch's [conv2d](https://pytorch.org/docs/stable/generated/torch.nn.functional.conv2d.html) function."
      ]
    },
    {
      "cell_type": "code",
      "execution_count": null,
      "metadata": {
        "id": "hsL3jjKXuCIz"
      },
      "outputs": [],
      "source": [
        "def horizontal_edge_detection(image):\n",
        "    \"\"\"\n",
        "    Apply a 3x3 horizontal edge detection filter to the input image using PyTorch and return the filtered image.\n",
        "\n",
        "    Args:\n",
        "    - image: A 3D numpy array representing the input image.\n",
        "\n",
        "    Returns:\n",
        "    - filtered_img: A 3D numpy array representing the image after applying the filter.\n",
        "    \"\"\"\n",
        "\n",
        "\n",
        "    return filtered_img\n",
        "\n",
        "filtered_img = horizontal_edge_detection(image)\n",
        "plot_original_and_modified(image, filtered_img)"
      ]
    },
    {
      "cell_type": "markdown",
      "metadata": {
        "id": "UXOXAXCU_Skn"
      },
      "source": [
        "### **TODO 7:**\n",
        "Implement a function that applies a 3x3 laplacian filter to an input image using PyTorch's [conv2d](https://pytorch.org/docs/stable/generated/torch.nn.functional.conv2d.html) function."
      ]
    },
    {
      "cell_type": "code",
      "execution_count": null,
      "metadata": {
        "id": "knmKRg_X_NTp"
      },
      "outputs": [],
      "source": [
        "def laplacian_filter(image):\n",
        "    \"\"\"\n",
        "    Apply a 3x3 laplacian filter to the input image using PyTorch and return the filtered image.\n",
        "\n",
        "    Args:\n",
        "    - image: A 3D numpy array representing the input image.\n",
        "\n",
        "    Returns:\n",
        "    - filtered_img: A 3D numpy array representing the image after applying the filter.\n",
        "    \"\"\"\n",
        "\n",
        "\n",
        "    return filtered_img\n",
        "\n",
        "filtered_img = laplacian_filter(image)\n",
        "plot_original_and_modified(image, filtered_img)"
      ]
    },
    {
      "cell_type": "markdown",
      "metadata": {
        "id": "mhB85-1NNfGP"
      },
      "source": [
        "### Gaussian Filter for Blurring\n",
        "\n",
        "The Gaussian filter is commonly used for blurring image. Its values are determined by the Gaussian function, resulting in a weighted average that emphasizes the central pixel and decreases the influence of neighboring pixels as the distance increases.\n",
        "\n",
        "The specific weights for the 3x3 Gaussian filter are arranged as follows, ensuring that the sum of all weights is equal to 1, which preserves the overall brightness of the image:\n",
        "\n",
        "\\begin{bmatrix}\n",
        "1/16 & 2/16 & 1/16 \\\\\n",
        "2/16 & 4/16 & 2/16 \\\\\n",
        "1/16 & 2/16 & 1/16 \\\\\n",
        "\\end{bmatrix}\n",
        "\n",
        "This arrangement of weights creates a bell-shaped curve, centralizing the focus on the middle pixel while progressively giving less importance to pixels further away.\n",
        "\n",
        "### **TODO 8:**\n",
        "Implement a function that applies a 3x3 gaussian filter to an input image using PyTorch's [conv2d](https://pytorch.org/docs/stable/generated/torch.nn.functional.conv2d.html) function."
      ]
    },
    {
      "cell_type": "code",
      "execution_count": null,
      "metadata": {
        "id": "lKodFHxQNtaI"
      },
      "outputs": [],
      "source": [
        "def gaussian_filter(image):\n",
        "    \"\"\"\n",
        "    Apply a 3x3 gaussian filter to the input image using PyTorch and return the filtered image.\n",
        "\n",
        "    Args:\n",
        "    - image: A 3D numpy array representing the input image.\n",
        "\n",
        "    Returns:\n",
        "    - filtered_img: A 3D numpy array representing the image after applying the filter.\n",
        "    \"\"\"\n",
        "\n",
        "\n",
        "    return filtered_img\n",
        "\n",
        "filtered_img = gaussian_filter(image)\n",
        "plot_original_and_modified(image, filtered_img)"
      ]
    },
    {
      "cell_type": "markdown",
      "metadata": {
        "id": "allKLfTvSHmv"
      },
      "source": [
        "## Pooling\n",
        "\n",
        "Pooling is an operation frequently used in the context of Convolutional Neural Networks (CNNs) for image processing. The main idea behind pooling is to reduce the spatial size of the representation, thereby reducing the number of parameters and computational complexity in the network. This helps in making the network less prone to overfitting and also reduces computation time.\n",
        "\n",
        "There are several types of pooling operations, with the most common ones being:\n",
        "\n",
        "**Max Pooling**: In this method, for each segment of the input, the maximum value is selected. For instance, if we consider a 2x2 pooling window (often called a \"kernel\" in this context) and slide it over an image tensor, the largest value within each 2x2 window will be selected for the pooled output.\n",
        "\n",
        "**Average Pooling**: Instead of taking the maximum value in each window, average pooling takes the average value. So for a 2x2 window, it would take the average of all 4 values in that window.\n",
        "\n",
        "**Min Pooling**: This operation selects the minimum value from each window, though it's less commonly used than max or average pooling.\n",
        "\n",
        "**Global Pooling**: Instead of using a fixed size window, global pooling operates over the entire height and width of the feature map, effectively transforming the spatial dimensions of the feature map to 1x1 (retaining the depth/channels).\n",
        "\n",
        "The main benefits of pooling include:\n",
        "\n",
        "- **Dimensionality Reduction**: It reduces the spatial dimensions of the feature maps, which in turn reduces the number of parameters in subsequent layers, leading to faster computations.\n",
        "- **Invariance to Small Translations**: Small translations in the input image might not lead to significant changes in the pooled feature map. This can be particularly useful when the exact location of features is less relevant than their presence.\n",
        "- **Prevents Overfitting**: By reducing the spatial resolution and thus the total number of parameters, pooling can help prevent overfitting.\n"
      ]
    },
    {
      "cell_type": "markdown",
      "metadata": {
        "id": "JL0GQXY6UYSp"
      },
      "source": [
        "### **TODO 9:**\n",
        "Implement a function that applies a 5x5 max pooling filter with stride 5 to an input image using PyTorch's [max_pool2d](https://pytorch.org/docs/stable/generated/torch.nn.functional.max_pool2d.html) function."
      ]
    },
    {
      "cell_type": "code",
      "execution_count": null,
      "metadata": {
        "id": "rBmFUrJQR8Yf"
      },
      "outputs": [],
      "source": [
        "def max_pooling(image):\n",
        "    \"\"\"\n",
        "    Apply a 5x5 max pooling to the input image using PyTorch and return the filtered image.\n",
        "\n",
        "    Args:\n",
        "    - image: A 3D numpy array representing the input image.\n",
        "\n",
        "    Returns:\n",
        "    - filtered_img: A 3D numpy array representing the image after applying the filter.\n",
        "    \"\"\"\n",
        "\n",
        "\n",
        "    return filtered_img\n",
        "\n",
        "filtered_img = max_pooling(image)\n",
        "plot_original_and_modified(image, filtered_img)"
      ]
    },
    {
      "cell_type": "markdown",
      "metadata": {
        "id": "mKgFIc4bW4_y"
      },
      "source": [
        "### **TODO 10:**\n",
        "Implement a function that applies a 5x5 average pooling filter with stride 5 to an input image using PyTorch's [avg_pool2d](https://pytorch.org/docs/stable/generated/torch.nn.functional.avg_pool2d.html) function."
      ]
    },
    {
      "cell_type": "code",
      "execution_count": null,
      "metadata": {
        "id": "FSZunSLCWXca"
      },
      "outputs": [],
      "source": [
        "def average_pooling(image):\n",
        "    \"\"\"\n",
        "    Apply a 5x5 average pooling to the input image using PyTorch and return the filtered image.\n",
        "\n",
        "    Args:\n",
        "    - image: A 3D numpy array representing the input image.\n",
        "\n",
        "    Returns:\n",
        "    - filtered_img: A 3D numpy array representing the image after applying the filter.\n",
        "    \"\"\"\n",
        "\n",
        "\n",
        "    return filtered_img\n",
        "\n",
        "filtered_img = average_pooling(image)\n",
        "plot_original_and_modified(image, filtered_img)"
      ]
    },
    {
      "cell_type": "markdown",
      "metadata": {
        "id": "nCaMDWYArEXO"
      },
      "source": [
        "## Convolutional Neural Networks\n",
        "\n",
        "The construction of neural networks is facilitated through the utilization of the ``torch.nn`` package within the PyTorch framework.\n",
        "\n",
        "A standard process for training a neural network involves the following steps:\n",
        "\n",
        "1. **Neural Network Definition:** The first step entails defining the architecture of the neural network, which encompasses the design of its interconnected layers and the inclusion of learnable parameters, often referred to as weights.\n",
        "\n",
        "2. **Iterative Data Processing:** Next, the training procedure involves iterating through a dataset containing input samples. Each input is fed into the neural network for processing.\n",
        "\n",
        "3. **Forward Propagation:** During this phase, the input data is passed through the neural network's layers, activating its neurons through weighted connections and producing an output prediction.\n",
        "\n",
        "4. **Loss Computation:** The output generated by the network is then compared to the actual desired output, leading to the computation of a loss value. This loss signifies the discrepancy between the predicted outcome and the true value.\n",
        "\n",
        "5. **Backpropagation:** After calculating the loss, the gradients of the loss with respect to the network's parameters are computed through a process called backpropagation. This entails tracing how changes in the parameters affect the loss.\n",
        "\n",
        "6. **Gradient Update:** The gradients computed during backpropagation are used to adjust the network's weights. A common method involves updating the weights by subtracting a scaled gradient value from the current weights. The scale factor, known as the learning rate, determines the step size of the update. This update rule can be expressed as: ``weight = weight - learning_rate * gradient``.\n",
        "\n",
        "Throughout this iterative process, the neural network's parameters are fine-tuned to minimize the loss and enhance its predictive accuracy. This sequence of steps forms the backbone of training neural networks, enabling them to learn and improve their performance over time.\n",
        "\n",
        "In this assignment we will create a simple CNN.\n",
        "\n",
        "\n",
        "To begin this section, we will load the CIFAR10 dataset and train a simple convolutional neural network (CNN) to classify the images.\n",
        "\n",
        "The CIFAR10 dataset has the classes:\n",
        "\n",
        "* `airplane`\n",
        "* `automobile`\n",
        "* `bird`\n",
        "* `cat`\n",
        "* `deer`\n",
        "* `dog`\n",
        "* `frog`\n",
        "* `horse`\n",
        "* `ship`\n",
        "* `truck`\n",
        "\n",
        "The images in CIFAR-10 are of size:\n",
        "\n",
        "* `3x32x32`\n",
        "\n",
        "i.e. 3-channel color images of `32x32` pixels in size.\n",
        "\n",
        "To load the data, we use a package called\n",
        "``torchvision``, that has data loaders for common datasets such as\n",
        "ImageNet, CIFAR10, MNIST, etc. and data transformers for images, namely,\n",
        "``torchvision.datasets`` and ``torch.utils.data.DataLoader``.\n",
        "\n",
        "\n",
        "In the following code, we perform the following:\n",
        "\n",
        "* Define a batch size for processing multiple images in each iteration.\n",
        "* Create a series of transformations to be applied to the images in the dataset: converting images to tensors and normalizing the pixel values.\n",
        "* Load the CIFAR10 **training** and **test** datasets, specifying the root directory, training mode, and transformations.\n",
        "* Construct a DataLoader for the **training** and **test** datasets with batch processing, shuffling, and parallel data loading."
      ]
    },
    {
      "cell_type": "code",
      "execution_count": null,
      "metadata": {
        "id": "_5UuOjjrnogR"
      },
      "outputs": [],
      "source": [
        "# Set the batch size for data processing\n",
        "batch_size = 4\n",
        "\n",
        "# Define the mean values and standard deviation values for normalization\n",
        "mean_values = (0.5, 0.5, 0.5)  # Mean values for red, green, and blue channels\n",
        "std_values = (0.5, 0.5, 0.5)   # Standard deviation values for red, green, and blue channels\n",
        "\n",
        "# Define the transformation pipeline\n",
        "transform = transforms.Compose([\n",
        "    transforms.ToTensor(),                  # Convert images to tensors\n",
        "    transforms.Normalize(mean_values, std_values)  # Normalize tensor values\n",
        "])\n",
        "\n",
        "# Load the CIFAR10 training dataset and apply the defined transformations\n",
        "trainset = torchvision.datasets.CIFAR10(root=\"./\", train=True,\n",
        "                                        download=True, transform=transform)\n",
        "\n",
        "# Create a DataLoader to efficiently load and process training data in batches\n",
        "trainloader = torch.utils.data.DataLoader(trainset, batch_size=batch_size,\n",
        "                                          shuffle=True, num_workers=2)\n",
        "\n",
        "# Load the CIFAR10 test dataset and apply the same transformations as for training\n",
        "testset = torchvision.datasets.CIFAR10(root=\"./\", train=False,\n",
        "                                       download=True, transform=transform)\n",
        "\n",
        "# Create a DataLoader for test data\n",
        "testloader = torch.utils.data.DataLoader(testset, batch_size=batch_size,\n",
        "                                         shuffle=False, num_workers=2)\n",
        "\n",
        "classes = ('plane', 'car', 'bird', 'cat',\n",
        "           'deer', 'dog', 'frog', 'horse', 'ship', 'truck')"
      ]
    },
    {
      "cell_type": "markdown",
      "metadata": {
        "id": "4LMb7NPmiNfo"
      },
      "source": [
        "Let's view some of the images."
      ]
    },
    {
      "cell_type": "code",
      "execution_count": null,
      "metadata": {
        "id": "01HjHP7EiQDq"
      },
      "outputs": [],
      "source": [
        "# Define a function to display images\n",
        "def imshow(img):\n",
        "    # Unnormalize the image\n",
        "    # The normalization was done using this formula:\n",
        "    # img_norm = (img - mean) / std\n",
        "    # So we unnormalize as follows:\n",
        "    img = img * 0.5 + 0.5\n",
        "\n",
        "    npimg = img.numpy()\n",
        "\n",
        "    #The image array is typically stored in the order [height, width, channels],\n",
        "    #but the plt.imshow function expects the image array to be stored in the\n",
        "    #order [channels, width, height].\n",
        "    #The np.transpose function transposes the image array,\n",
        "    #so that it is stored in the correct order.\n",
        "    plt.imshow(np.transpose(npimg, (1, 2, 0)))\n",
        "\n",
        "    # Display the image\n",
        "    plt.show()\n",
        "\n",
        "# Get some random training images\n",
        "dataiter = iter(trainloader)\n",
        "images, labels = next(dataiter)\n",
        "\n",
        "# Show the images using the imshow function\n",
        "imshow(torchvision.utils.make_grid(images))\n",
        "\n",
        "# Print labels\n",
        "print('Labels:', ' '.join(f'{classes[labels[j]]:5s}' for j in range(batch_size)))"
      ]
    },
    {
      "cell_type": "markdown",
      "metadata": {
        "id": "l62CkyIwtSOv"
      },
      "source": [
        "### **TODO 11:**\n",
        "\n",
        "Implement a simple CNN model with the architecure defined in the comments to classify images from the CIFAR-10 dataset. The CIFAR-10 dataset comprises 3x32x32 pixel RGB color images with 10 distinct categories."
      ]
    },
    {
      "cell_type": "code",
      "execution_count": null,
      "metadata": {
        "id": "9fL3F-7Rntog"
      },
      "outputs": [],
      "source": [
        "class Net(nn.Module):\n",
        "    def __init__(self):\n",
        "        super(Net, self).__init__()\n",
        "        # Define the layers of the neural network architecture\n",
        "\n",
        "        # First convolutional layer: 3 input channels, 6 output channels, kernel size 5x5\n",
        "\n",
        "\n",
        "        # Max pooling layer with kernel size 2x2 and stride 2\n",
        "\n",
        "\n",
        "        # Second convolutional layer: 6 input channels, 16 output channels, kernel size 5x5\n",
        "\n",
        "\n",
        "        # First fully connected layer: 16*5*5 input features, 120 output features\n",
        "\n",
        "\n",
        "        # Second fully connected layer: 120 input features, 84 output features\n",
        "\n",
        "\n",
        "        # Third fully connected layer: 84 input features, 10 output features (for classification)\n",
        "\n",
        "\n",
        "    def forward(self, x: torch.Tensor) -> torch.Tensor:\n",
        "        # Apply first convolutional layer, followed by ReLU activation and max pooling\n",
        "\n",
        "\n",
        "        # Apply second convolutional layer, followed by ReLU activation and max pooling\n",
        "\n",
        "\n",
        "        # The output from the convolutional and pooling layers is in the form of a\n",
        "        # 3D tensor (height, width, depth or channels).\n",
        "        # To feed this tensor into a fully connected layer,\n",
        "        # it needs to be flattened into a 1D tensor.\n",
        "        # Reshape tensor for fully connected layers\n",
        "        # A2D tensor with a shape of [batch_size, 16 * 5 * 5].\n",
        "\n",
        "\n",
        "        # Apply first fully connected layer, followed by ReLU activation\n",
        "\n",
        "\n",
        "        # Apply second fully connected layer, followed by ReLU activation\n",
        "\n",
        "\n",
        "        # Apply third fully connected layer (output layer)\n",
        "\n",
        "\n",
        "        return x\n",
        "\n",
        "# Create an instance of the neural network and move it to the specified device (e.g., GPU)\n",
        "net = Net().to(device)"
      ]
    },
    {
      "cell_type": "markdown",
      "metadata": {
        "id": "Nijieuxptag6"
      },
      "source": [
        "### **TODO 12:**\n",
        "\n",
        "Implement the training loop for your CNN model. The loop should feed input data to the model, compute the loss using the correct labels, and update the model weights using an optimization algorithm."
      ]
    },
    {
      "cell_type": "code",
      "execution_count": null,
      "metadata": {
        "id": "CzK6ohj5oNCT"
      },
      "outputs": [],
      "source": [
        "def train(model: nn.Module, dataloader: DataLoader, epoch_num: int):\n",
        "    # Define the loss criterion and optimizer\n",
        "\n",
        "    for epoch in range(epoch_num):  # Loop over the dataset for multiple epochs\n",
        "        running_loss = 0.0\n",
        "\n",
        "        # Iterate over mini-batches of data\n",
        "        for i, data in enumerate(dataloader, 0):\n",
        "            # Get the inputs; data is a list of [inputs, labels]\n",
        "\n",
        "            # Move inputs to the specified device\n",
        "\n",
        "            # Move labels to the specified device\n",
        "\n",
        "            # Zero the gradients in the optimizer\n",
        "\n",
        "            # Forward pass through the model\n",
        "\n",
        "            # Calculate the loss\n",
        "\n",
        "            # Compute gradients\n",
        "\n",
        "            # Update model parameters\n",
        "\n",
        "            # Print statistics\n",
        "            running_loss += loss.item()\n",
        "            if i % 2000 == 1999:  # Print every 2000 mini-batches\n",
        "                print('[%d, %5d] loss: %.3f' %\n",
        "                    (epoch + 1, i + 1, running_loss / 2000))\n",
        "                running_loss = 0.0\n",
        "\n",
        "    print('Finished Training')  # Training loop is complete"
      ]
    },
    {
      "cell_type": "markdown",
      "metadata": {
        "id": "ANBYPtAMP2jT"
      },
      "source": [
        "Train this CNN on the training dataset with 3 epoch (this may take a few moments)."
      ]
    },
    {
      "cell_type": "code",
      "execution_count": null,
      "metadata": {
        "id": "HixhBHaqtmZU"
      },
      "outputs": [],
      "source": [
        "train(net, trainloader, 2)"
      ]
    },
    {
      "cell_type": "markdown",
      "metadata": {
        "id": "EJggxnCVuRxU"
      },
      "source": [
        "Now that the CNN has been trained, let's test it on our test dataset."
      ]
    },
    {
      "cell_type": "code",
      "execution_count": null,
      "metadata": {
        "id": "ifYWr5qFrzdc"
      },
      "outputs": [],
      "source": [
        "dataiter = iter(testloader)\n",
        "images, labels = next(dataiter)\n",
        "\n",
        "# print images\n",
        "imshow(torchvision.utils.make_grid(images))\n",
        "print('GroundTruth: ', ' '.join(f'{classes[labels[j]]:5s}' for j in range(4)))\n",
        "\n",
        "net.cuda()\n",
        "images = images.cuda()\n",
        "outputs = net(images)\n",
        "_, predicted = torch.max(outputs, 1)\n",
        "\n",
        "print('Predicted: ', ' '.join(f'{classes[predicted[j]]:5s}'\n",
        "                              for j in range(4)))"
      ]
    },
    {
      "cell_type": "markdown",
      "metadata": {
        "id": "vW3U7pourwjT"
      },
      "source": [
        "Let us look at how the network performs on the whole dataset.\n"
      ]
    },
    {
      "cell_type": "code",
      "execution_count": null,
      "metadata": {
        "id": "y27_n-djuEdz"
      },
      "outputs": [],
      "source": [
        "# A function to evaluate the performance of a given neural network model\n",
        "# using a test dataset.\n",
        "# It calculates the accuracy of the model's predictions on the test data.\n",
        "def calculate_accuracy(model: nn.Module, dataloader: DataLoader, max_samples=None) -> float:\n",
        "    correct_predictions = 0  # Initialize the count of correctly predicted samples\n",
        "    total_samples = 0    # Initialize the count of total samples\n",
        "    inference_count = 0  # Initialize the count of inferences made\n",
        "\n",
        "    with torch.no_grad():  # Disable gradient calculation for inference\n",
        "        for batch_data in dataloader:\n",
        "            images, labels = batch_data  # Separate images and labels from the batch\n",
        "\n",
        "            images = images.to(device)  # Move images to the specified device\n",
        "            labels = labels.to(device)  # Move labels to the specified device\n",
        "\n",
        "            outputs = model(images)  # Forward pass to get model predictions\n",
        "            _, predicted = torch.max(outputs.data, 1)  # Get predicted class indices\n",
        "\n",
        "            total_samples += labels.size(0)  # Increment the total count of samples\n",
        "            correct_predictions += (predicted == labels).sum().item()  # Count correct predictions\n",
        "\n",
        "            if max_samples:  # Check if a maximum number of samples for testing is specified\n",
        "                inference_count += images.shape[0]  # Increment the count of inferences made\n",
        "                if inference_count > max_samples:  # Stop testing if maximum samples reached\n",
        "                    break\n",
        "\n",
        "    accuracy = 100 * correct_predictions / total_samples  # Calculate the accuracy as a percentage\n",
        "    return accuracy\n",
        "\n",
        "score = calculate_accuracy(net, testloader)\n",
        "print('Accuracy of the network on the test images: {}%'.format(score))"
      ]
    },
    {
      "cell_type": "markdown",
      "metadata": {
        "id": "g2_4MK0B1f1z"
      },
      "source": [
        "### **TODO 13:**\n",
        "1. In the CNN model we have created, how many layers have trainable weights? Please list all the dimensions of each layer's weights.\n",
        "\n",
        "2. For each of the layers with traiable weights, please list their input and output dimension.\n",
        "\n",
        "3. The outputs of a neural network before the activation function is applied are named as \"logits\". For multi-class clasification, we know that we need to apply softmax activation function to logits and then compute cross-entropy loss on it. However, in our `Net` class where we define the model architecture, we haven't explicitly initialized a softmax function or applied it to the model's final output within the forward function. Can you explain why by referring to PyTorch's [CrossEntropyLoss](https://pytorch.org/docs/stable/generated/torch.nn.CrossEntropyLoss.html) documentation?\n",
        "\n",
        "4. Why is cross-entropy loss prefered over MSE loss for multi-class classification?\n",
        "\n",
        "5. Suppose we have a vector of logits `Z`, with a dimension of `M`. This dimension corresponds to the number of output classes in a classification task, such as the Cifar10 classification task where `M` = 10. First, we apply the softmax function to the logits `Z`, which yields a vector of predicted probabilities for each class, denoted as `P`. Then, we compute the cross-entropy loss, denoted as `L`, using the probabilities vector `P` and the true class labels `Y`, which are provided in the form of a one-hot encoded vector of the same length `M`. Derive the gradient of the loss `L` with respect to the logits `Z`, namely `dL/dZ`."
      ]
    },
    {
      "cell_type": "markdown",
      "metadata": {
        "id": "MtfggcxyP2jU"
      },
      "source": [
        "Your answer:"
      ]
    },
    {
      "cell_type": "markdown",
      "metadata": {
        "id": "JdR8TYHPP2jU"
      },
      "source": []
    }
  ],
  "metadata": {
    "accelerator": "GPU",
    "colab": {
      "collapsed_sections": [
        "xqQLUTPfi0JZ"
      ],
      "provenance": []
    },
    "kernelspec": {
      "display_name": "Python 3",
      "name": "python3"
    },
    "language_info": {
      "codemirror_mode": {
        "name": "ipython",
        "version": 3
      },
      "file_extension": ".py",
      "mimetype": "text/x-python",
      "name": "python",
      "nbconvert_exporter": "python",
      "pygments_lexer": "ipython3",
      "version": "3.9.18"
    }
  },
  "nbformat": 4,
  "nbformat_minor": 0
}